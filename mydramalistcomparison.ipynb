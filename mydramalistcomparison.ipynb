{
  "nbformat": 4,
  "nbformat_minor": 0,
  "metadata": {
    "colab": {
      "provenance": [],
      "authorship_tag": "ABX9TyPxBKvIQIOYVl4C3P9+20Of",
      "include_colab_link": true
    },
    "kernelspec": {
      "name": "python3",
      "display_name": "Python 3"
    },
    "language_info": {
      "name": "python"
    }
  },
  "cells": [
    {
      "cell_type": "markdown",
      "metadata": {
        "id": "view-in-github",
        "colab_type": "text"
      },
      "source": [
        "<a href=\"https://colab.research.google.com/github/Elsaba2002/MyDramaList-Completed-Dramas-Comparison/blob/main/mydramalistcomparison.ipynb\" target=\"_parent\"><img src=\"https://colab.research.google.com/assets/colab-badge.svg\" alt=\"Open In Colab\"/></a>"
      ]
    },
    {
      "cell_type": "code",
      "execution_count": null,
      "metadata": {
        "colab": {
          "base_uri": "https://localhost:8080/"
        },
        "id": "MFVs2jwEa5_S",
        "outputId": "98f8ef3d-e410-411e-9feb-6dc05e3f87e2"
      },
      "outputs": [
        {
          "output_type": "stream",
          "name": "stdout",
          "text": [
            "Requirement already satisfied: requests in /usr/local/lib/python3.10/dist-packages (2.32.3)\n",
            "Requirement already satisfied: beautifulsoup4 in /usr/local/lib/python3.10/dist-packages (4.12.3)\n",
            "Requirement already satisfied: pandas in /usr/local/lib/python3.10/dist-packages (2.2.2)\n",
            "Requirement already satisfied: charset-normalizer<4,>=2 in /usr/local/lib/python3.10/dist-packages (from requests) (3.3.2)\n",
            "Requirement already satisfied: idna<4,>=2.5 in /usr/local/lib/python3.10/dist-packages (from requests) (3.10)\n",
            "Requirement already satisfied: urllib3<3,>=1.21.1 in /usr/local/lib/python3.10/dist-packages (from requests) (2.2.3)\n",
            "Requirement already satisfied: certifi>=2017.4.17 in /usr/local/lib/python3.10/dist-packages (from requests) (2024.8.30)\n",
            "Requirement already satisfied: soupsieve>1.2 in /usr/local/lib/python3.10/dist-packages (from beautifulsoup4) (2.6)\n",
            "Requirement already satisfied: numpy>=1.22.4 in /usr/local/lib/python3.10/dist-packages (from pandas) (1.26.4)\n",
            "Requirement already satisfied: python-dateutil>=2.8.2 in /usr/local/lib/python3.10/dist-packages (from pandas) (2.8.2)\n",
            "Requirement already satisfied: pytz>=2020.1 in /usr/local/lib/python3.10/dist-packages (from pandas) (2024.2)\n",
            "Requirement already satisfied: tzdata>=2022.7 in /usr/local/lib/python3.10/dist-packages (from pandas) (2024.2)\n",
            "Requirement already satisfied: six>=1.5 in /usr/local/lib/python3.10/dist-packages (from python-dateutil>=2.8.2->pandas) (1.16.0)\n"
          ]
        }
      ],
      "source": [
        "!pip install requests beautifulsoup4 pandas"
      ]
    },
    {
      "cell_type": "code",
      "source": [
        "import requests\n",
        "from bs4 import BeautifulSoup\n",
        "\n",
        "def scrape_completed_dramas(username):\n",
        "    # Directly target the 'Completed' section for the user\n",
        "    url = f\"https://mydramalist.com/dramalist/{username}/completed\"\n",
        "    headers = {\n",
        "        'User-Agent': 'Mozilla/5.0 (Windows NT 10.0; Win64; x64) AppleWebKit/537.36 (KHTML, like Gecko) Chrome/91.0.4472.124 Safari/537.36'\n",
        "    }\n",
        "\n",
        "    response = requests.get(url, headers=headers)\n",
        "\n",
        "    if response.status_code != 200:\n",
        "        print(f\"Failed to access {username}'s completed dramas. Status Code: {response.status_code}\")\n",
        "        return []\n",
        "\n",
        "    soup = BeautifulSoup(response.content, 'html.parser')\n",
        "\n",
        "    # Debugging: Print out the structure if needed\n",
        "    # print(soup.prettify())  # Uncomment to inspect the HTML structure\n",
        "\n",
        "    completed_dramas = []\n",
        "\n",
        "    # Locate the table with completed dramas\n",
        "    table = soup.find('table', id='list_2')  # Ensure this ID is correct\n",
        "    if table:\n",
        "        print(f\"Found table for {username}'s completed dramas.\")\n",
        "        for row in table.find_all('tr')[1:]:  # Skip the header row\n",
        "            title_element = row.find('a', class_='title text-primary _600')\n",
        "            if title_element:\n",
        "                title = title_element.get_text(strip=True)\n",
        "                completed_dramas.append(title)\n",
        "    else:\n",
        "        print(f\"No table found for {username}'s completed dramas.\")\n",
        "\n",
        "    return completed_dramas\n",
        "\n",
        "# Example usage\n",
        "your_username = 'heyo100'\n",
        "friend_username = 'ReinaPriyanka'\n",
        "\n",
        "your_dramas = scrape_completed_dramas(your_username)\n",
        "friend_dramas = scrape_completed_dramas(friend_username)\n",
        "\n",
        "# Check for common dramas\n",
        "your_set = set(title.strip().lower() for title in your_dramas)\n",
        "friend_set = set(title.strip().lower() for title in friend_dramas)\n",
        "\n",
        "common_dramas = your_set.intersection(friend_set)\n",
        "\n",
        "# Display the results\n",
        "if common_dramas:\n",
        "    print(\"\\nYou and your friend have the following dramas in common:\")\n",
        "    print(\"Number of common dramas:\", len(common_dramas))\n",
        "    for drama in common_dramas:\n",
        "        print(f\"- {drama.title()}\")  # Capitalize the title for better presentation\n",
        "else:\n",
        "    print(\"You and your friend have no dramas in common.\")\n"
      ],
      "metadata": {
        "colab": {
          "base_uri": "https://localhost:8080/"
        },
        "id": "4zI5dfllbA8L",
        "outputId": "7ad5f3e5-8efe-47d9-b1ed-6aab32e53240"
      },
      "execution_count": null,
      "outputs": [
        {
          "output_type": "stream",
          "name": "stdout",
          "text": [
            "Found table for heyo100's completed dramas.\n",
            "Found table for ReinaPriyanka's completed dramas.\n",
            "\n",
            "You and your friend have the following dramas in common:\n",
            "Number of common dramas: 60\n",
            "- What'S Wrong With Secretary Kim\n",
            "- Mr. Queen\n",
            "- Exo Next Door\n",
            "- Queen Of Tears\n",
            "- Koi Desu: Yankee-Kun To Hakujou Garu\n",
            "- Search: Www\n",
            "- Itaewon Class\n",
            "- 18 Again\n",
            "- Lovely Runner\n",
            "- Her Private Life\n",
            "- Exo Arcade Season 2\n",
            "- The Pirates 2: The Last Royal Treasure\n",
            "- Kahogo No Kahoko\n",
            "- King The Land\n",
            "- Kocchi Muite Yo Mukai-Kun\n",
            "- A Taxi Driver\n",
            "- Strong Woman Do Bong Soon\n",
            "- My Little Bride\n",
            "- Twinkling Watermelon\n",
            "- Alchemy Of Souls Season 2: Light And Shadow\n",
            "- Law School\n",
            "- Umi No Hajimari\n",
            "- King2Hearts\n",
            "- Blood Free\n",
            "- Extreme Job\n",
            "- The Atypical Family\n",
            "- The Last Empress\n",
            "- Exo Arcade Season 1\n",
            "- Extraordinary Attorney Woo\n",
            "- Honest Candidate\n",
            "- Flex X Cop\n",
            "- Goblin\n",
            "- Dr. Romantic Season 2\n",
            "- On Your Wedding Day\n",
            "- Mystic Pop-Up Bar\n",
            "- Do You Like Brahms?\n",
            "- Hometown Cha-Cha-Cha\n",
            "- Confidential Assignment\n",
            "- Moving\n",
            "- Angel'S Last Mission: Love\n",
            "- Love Next Door\n",
            "- My Id Is Gangnam Beauty\n",
            "- Crash Course In Romance\n",
            "- Legend Of Yun Xi\n",
            "- Begin Again\n",
            "- Fake Princess\n",
            "- Pilot\n",
            "- Sell Your Haunted House\n",
            "- Perfect World\n",
            "- Dali And The Cocky Prince\n",
            "- Crash Landing On You\n",
            "- Welcome To Samdal-Ri\n",
            "- See You In My 19Th Life\n",
            "- My Girl\n",
            "- My Roommate Is A Gumiho\n",
            "- Weightlifting Fairy Kim Bok Joo\n",
            "- Kahogo No Kahoko - 2018 Love & Dream\n",
            "- Our Secret Diary\n",
            "- The King'S Affection\n",
            "- As Long As We Both Shall Live\n"
          ]
        }
      ]
    }
  ]
}